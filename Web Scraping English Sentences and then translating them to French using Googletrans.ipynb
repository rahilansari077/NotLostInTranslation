{
 "cells": [
  {
   "cell_type": "markdown",
   "id": "fa1a09b5",
   "metadata": {},
   "source": [
    "Importing relevant modules."
   ]
  },
  {
   "cell_type": "code",
   "execution_count": 4,
   "id": "9ab44e53",
   "metadata": {},
   "outputs": [],
   "source": [
    "from bs4 import BeautifulSoup\n",
    "from googletrans import Translator\n",
    "\n",
    "import requests\n",
    "import pandas as pd\n",
    "import numpy as np"
   ]
  },
  {
   "cell_type": "markdown",
   "id": "f8031219",
   "metadata": {},
   "source": [
    "The French word file consists of 1000 rows with three main cloumns - Index, French words, English words. The following script will import this file into a pandas dataframe and then load the website https://sentence.yourdictionary.com/ with each english word from the file to srape sentences containing the word. "
   ]
  },
  {
   "cell_type": "code",
   "execution_count": 2,
   "id": "dd582e70",
   "metadata": {},
   "outputs": [],
   "source": [
    "df = pd.read_excel(\"french_words.xlsx\")"
   ]
  },
  {
   "cell_type": "markdown",
   "id": "4240616f",
   "metadata": {},
   "source": [
    "Creating columns to store up to five english sentences scraped from the website."
   ]
  },
  {
   "cell_type": "code",
   "execution_count": 3,
   "id": "eee8248a",
   "metadata": {},
   "outputs": [],
   "source": [
    "df['sentence1'], df['sentence2'], df['sentence3'], df['sentence4'], df['sentence5'] = np.nan, np.nan, np.nan,  np.nan,  np.nan"
   ]
  },
  {
   "cell_type": "markdown",
   "id": "db06c24e",
   "metadata": {},
   "source": [
    "Following code performs web scraping using requests module and BeautifulSoup module"
   ]
  },
  {
   "cell_type": "code",
   "execution_count": null,
   "id": "096cdc11",
   "metadata": {},
   "outputs": [],
   "source": [
    "for index, rows in df.iterrows():\n",
    "    page_to_scrape = requests.get(\"https://sentence.yourdictionary.com/\"+rows[\"English\"].replace(\"'\", \"\"))\n",
    "    soup = BeautifulSoup(page_to_scrape.text, \"html.parser\");\n",
    "    sentences = soup.findAll(\"p\", attrs={\"class\":\"sentence-item__text\"})\n",
    "    print(rows[\"English\"]+\":\"+str(index))\n",
    "    \n",
    "    if (len(sentences)!= 0):\n",
    "        df.loc[index, \"sentence1\"] = sentences[0].text\n",
    "        df.loc[index, \"sentence2\"] = sentences[1].text\n",
    "        df.loc[index, \"sentence3\"] = sentences[2].text\n",
    "        df.loc[index, \"sentence4\"] = sentences[3].text\n",
    "        df.loc[index, \"sentence5\"] = sentences[4].text\n",
    "    "
   ]
  },
  {
   "cell_type": "code",
   "execution_count": null,
   "id": "e83915d2",
   "metadata": {},
   "outputs": [],
   "source": [
    "#storing results into a temp file as we do not want to lose the resulting dataframe.\n",
    "df.to_excel(\"temp_file.xlsx\", index=False) "
   ]
  },
  {
   "cell_type": "code",
   "execution_count": null,
   "id": "5417a785",
   "metadata": {},
   "outputs": [],
   "source": [
    "#Now recreating the dataframe df\n",
    "df = pd.read_excel(\"temp_file.xlsx\")"
   ]
  },
  {
   "cell_type": "markdown",
   "id": "41507161",
   "metadata": {},
   "source": [
    "Using Translator function in Googletrans module to translate english words to french and store them in newly created columns."
   ]
  },
  {
   "cell_type": "code",
   "execution_count": null,
   "id": "4dc0006f",
   "metadata": {},
   "outputs": [],
   "source": [
    "for index, rows in df.iterrows():\n",
    "   \n",
    "    try:\n",
    "        print(index)\n",
    "        text = df.iloc[index][\"sentence1\"];\n",
    "        translated_text = translator.translate(text, src='en', dest='fr')\n",
    "        df.loc[index, \"french_sentence1\"] = (translated_text.text)\n",
    "\n",
    "        text = df.iloc[index][\"sentence2\"];\n",
    "        translated_text = translator.translate(text, src='en', dest='fr')\n",
    "        df.loc[index, \"french_sentence2\"]=  (translated_text.text)\n",
    "\n",
    "        text = df.iloc[index][\"sentence3\"];\n",
    "        translated_text = translator.translate(text, src='en', dest='fr')\n",
    "        df.loc[index, \"french_sentence3\"]=  (translated_text.text)\n",
    "\n",
    "        text = df.iloc[index][\"sentence4\"];\n",
    "        translated_text = translator.translate(text, src='en', dest='fr')\n",
    "        df.loc[index, \"french_sentence4\"]=  (translated_text.text)\n",
    "\n",
    "        text = df.iloc[index][\"sentence5\"];\n",
    "        translated_text = translator.translate(text, src='en', dest='fr')\n",
    "        df.loc[index, \"french_sentence5\"]= (translated_text.text)\n",
    "        \n",
    "    except :\n",
    "        print(\"Error occured at index: \" + str(index) + \" Word: \", df.iloc[index][\"English\"])\n",
    "        \n"
   ]
  },
  {
   "cell_type": "markdown",
   "id": "e81b241b",
   "metadata": {},
   "source": [
    "Finally result is stored in output file."
   ]
  },
  {
   "cell_type": "code",
   "execution_count": null,
   "id": "ccc2c793",
   "metadata": {},
   "outputs": [],
   "source": [
    "df.to_excel(\"output_file.xlsx\", index=False) "
   ]
  }
 ],
 "metadata": {
  "kernelspec": {
   "display_name": "Python 3 (ipykernel)",
   "language": "python",
   "name": "python3"
  },
  "language_info": {
   "codemirror_mode": {
    "name": "ipython",
    "version": 3
   },
   "file_extension": ".py",
   "mimetype": "text/x-python",
   "name": "python",
   "nbconvert_exporter": "python",
   "pygments_lexer": "ipython3",
   "version": "3.11.4"
  }
 },
 "nbformat": 4,
 "nbformat_minor": 5
}
